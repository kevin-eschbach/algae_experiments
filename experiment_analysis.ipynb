{
  "nbformat": 4,
  "nbformat_minor": 0,
  "metadata": {
    "colab": {
      "private_outputs": true,
      "provenance": [],
      "authorship_tag": "ABX9TyM3mEknbTC0S5cMgowtHLLk",
      "include_colab_link": true
    },
    "kernelspec": {
      "name": "python3",
      "display_name": "Python 3"
    },
    "language_info": {
      "name": "python"
    }
  },
  "cells": [
    {
      "cell_type": "markdown",
      "metadata": {
        "id": "view-in-github",
        "colab_type": "text"
      },
      "source": [
        "<a href=\"https://colab.research.google.com/github/kevin-eschbach/algae_experiments/blob/main/experiment_analysis.ipynb\" target=\"_parent\"><img src=\"https://colab.research.google.com/assets/colab-badge.svg\" alt=\"Open In Colab\"/></a>"
      ]
    },
    {
      "cell_type": "code",
      "execution_count": null,
      "metadata": {
        "id": "7qDBmHTQX0YP"
      },
      "outputs": [],
      "source": [
        "from google.colab import drive\n",
        "drive.mount('/content/gdrive')"
      ]
    },
    {
      "cell_type": "code",
      "source": [
        "import numpy as np\n",
        "import pandas as pd # maybe use dask\n",
        "import sklearn\n",
        "import plotly.express as px\n",
        "import glob, os\n",
        "import matplotlib.pyplot as plt\n",
        "from datetime import datetime, timedelta\n",
        "%matplotlib inline"
      ],
      "metadata": {
        "id": "2yFt-9mmYcN2"
      },
      "execution_count": null,
      "outputs": []
    },
    {
      "cell_type": "code",
      "source": [
        "path = r'/content/gdrive/MyDrive/[09] Master Thesis/data/'\n",
        "\n",
        "data = pd.read_csv(path + \"ATP3-UFS-Instrumentation.csv\")\n",
        "data['DateTime'] = pd.to_datetime(data['DateTime'])\n",
        "\n",
        "harvest_data = pd.read_csv(path + \"ATP3-UFS-HarvestData.csv\")\n",
        "harvest_data[\"Date\"] = pd.to_datetime(harvest_data[\"Date\"])\n",
        "\n",
        "composition_data = pd.read_csv(path + \"ATP3-UFS-Composition.csv\")\n",
        "composition_data[\"DATETIME\"] = pd.to_datetime(composition_data[\"DATETIME\"])\n",
        "\n",
        "weather_data = pd.read_csv(path + \"ATP3-UFS-Weather.csv\")\n",
        "weather_data[\"Date\"] = pd.to_datetime(weather_data[\"Date\"])\n",
        "\n",
        "## outlier removal\n",
        "for col in ['pH', 'Temp (C)', 'Cond (mS.cm)', 'DO (mg.L)', 'DO (%sat)', 'Sal (g.L)']:\n",
        "  q_low = data[col].quantile(0.01)\n",
        "  q_high = data[col].quantile(0.99)\n",
        "  data = data[(data[col] < q_high) & (data[col] > q_low)]"
      ],
      "metadata": {
        "id": "Xx5gMgJXX4kk"
      },
      "execution_count": null,
      "outputs": []
    },
    {
      "cell_type": "code",
      "source": [
        "def show_experiment(instrumentation_data, harvest_data, composition_data, weather_data, experimentID, pondID, siteID):\n",
        "\n",
        "  # ================== INSTRUMENTATION DATA =======================\n",
        "  intrumentation = instrumentation_data.loc[instrumentation_data['ExperimentID'] == experimentID]\n",
        "  intrumentation = intrumentation.loc[intrumentation['PondID'] == pondID]\n",
        "  intrumentation = intrumentation.loc[intrumentation['SiteID'] == siteID]\n",
        "  intrumentation = intrumentation.sort_values(\"DateTime\")\n",
        "  time = np.asarray(intrumentation['DateTime'])\n",
        "  start = time[0]\n",
        "  end = time[-1]\n",
        "  duration = end-start\n",
        "  duration_days = duration.astype(\"timedelta64[D]\") // np.timedelta64(1, 'D')\n",
        "  duration_hours = int(duration.astype(\"timedelta64[h]\") / np.timedelta64(1, 'h') % 24)\n",
        "\n",
        "  # =================== HARVEST DATA =============================\n",
        "  harvest = harvest_data.loc[harvest_data['ExperimentID'] == experimentID]\n",
        "  harvest = harvest.loc[harvest['PondID'] == pondID]\n",
        "  harvest = harvest.loc[harvest['SiteID'] == siteID]\n",
        "  harvest = harvest.sort_values(\"Date\")\n",
        "\n",
        "  # =================== COMPOSITION DATA =======================\n",
        "  composition = composition_data.loc[composition_data['ExperimentID'] == experimentID]\n",
        "  composition = composition.loc[composition['PondID'] == pondID]\n",
        "  composition = composition.loc[composition['SiteID'] == siteID]\n",
        "  composition = composition.sort_values('DATETIME')\n",
        "\n",
        "  # ================== WHEATHER DATA =========================\n",
        "  weather = weather_data.loc[weather_data['ExperimentID'] == experimentID]\n",
        "  weather = weather.loc[weather['SiteID'] == siteID]\n",
        "  weather = weather.sort_values(\"Date\")\n",
        "  # NOTE: same for all the ponds at the same site!!!\n",
        "\n",
        "  intrumentation = intrumentation.resample('d', on='DateTime').mean().dropna(how='all').reset_index()\n",
        "  weather = weather.resample('d', on='Date').mean().dropna(how='all').reset_index()\n",
        "\n",
        "  # Merge weather and instrumentation data\n",
        "\n",
        "  # Merge harvest and composition data - But how???\n",
        "\n",
        "\n",
        "\n",
        "\n",
        "  print(\"Harvest Information:\")\n",
        "  fig = px.scatter_3d(composition, x='Protein.AF', y='FAME.Lipids.AF', z='Carbohydrates.AF', color='Duration.days', symbol='StrainID') # size = AFDW.g.L\n",
        "  fig.show()\n",
        "\n",
        "  print(\"Global Light Energy:\")\n",
        "  fig = px.histogram(weather, x='GlobalLightEnergy(W.m2)')\n",
        "  fig.show()\n",
        "  fig = px.line(weather, x='Date', y='GlobalLightEnergy(W.m2)')\n",
        "  fig.show()\n",
        "\n",
        "  print(f\"START: {start}\\nEND: {end}\\nDURATION: {duration_days}d {duration_hours}h\")\n",
        "  for col in intrumentation.columns:\n",
        "    if col in ['ExperimentID', 'SiteID', 'PondID', 'StrainID']:\n",
        "      print(f\"{col}: {intrumentation[col].unique()}\")\n",
        "    elif col in ['DateTime', 'Date', 'PAR (umol.m2.s)']:\n",
        "      pass\n",
        "    else:\n",
        "      print(f\"============{col}=============\")\n",
        "      print(f\"max {col}: {intrumentation[col].max()}\")\n",
        "      print(f\"min {col}: {intrumentation[col].min()}\")\n",
        "      print(f\"mean {col}: {intrumentation[col].mean()}\")\n",
        "\n",
        "      fig = px.histogram(intrumentation, x=col)\n",
        "      fig.show()\n",
        "      fig = px.line(intrumentation, x='DateTime', y=col)\n",
        "      fig.show()"
      ],
      "metadata": {
        "id": "VjqzmqELhAph"
      },
      "execution_count": null,
      "outputs": []
    },
    {
      "cell_type": "code",
      "source": [
        "# 0 <= light energy W.m2 <= 1200\n",
        "# 5 <= pH <= 9\n",
        "# 0 <= temp (C) <= 50\n",
        "# 0 <= DO mg.L <= 20\n",
        "# 5 <= Sal g.L <= 50"
      ],
      "metadata": {
        "id": "Ucge7lQZXwox"
      },
      "execution_count": null,
      "outputs": []
    },
    {
      "cell_type": "code",
      "source": [
        "show_experiment(data, harvest_data, composition_data, weather_data, 'SEP102014', 'P3', 'ASU')"
      ],
      "metadata": {
        "id": "DuE-YoQNZoyX"
      },
      "execution_count": null,
      "outputs": []
    }
  ]
}