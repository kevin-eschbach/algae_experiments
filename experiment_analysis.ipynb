{
  "nbformat": 4,
  "nbformat_minor": 0,
  "metadata": {
    "colab": {
      "private_outputs": true,
      "provenance": [],
      "authorship_tag": "ABX9TyNzxUExVzGWrR7KeVwMk/x7",
      "include_colab_link": true
    },
    "kernelspec": {
      "name": "python3",
      "display_name": "Python 3"
    },
    "language_info": {
      "name": "python"
    }
  },
  "cells": [
    {
      "cell_type": "markdown",
      "metadata": {
        "id": "view-in-github",
        "colab_type": "text"
      },
      "source": [
        "<a href=\"https://colab.research.google.com/github/kevin-eschbach/algae_experiments/blob/main/experiment_analysis.ipynb\" target=\"_parent\"><img src=\"https://colab.research.google.com/assets/colab-badge.svg\" alt=\"Open In Colab\"/></a>"
      ]
    },
    {
      "cell_type": "code",
      "execution_count": null,
      "metadata": {
        "id": "7qDBmHTQX0YP"
      },
      "outputs": [],
      "source": [
        "from google.colab import drive\n",
        "drive.mount('/content/gdrive')"
      ]
    },
    {
      "cell_type": "code",
      "source": [
        "import numpy as np\n",
        "import pandas as pd\n",
        "import sklearn\n",
        "import plotly.express as px\n",
        "import glob, os\n",
        "import matplotlib.pyplot as plt\n",
        "from datetime import datetime, timedelta\n",
        "%matplotlib inline"
      ],
      "metadata": {
        "id": "2yFt-9mmYcN2"
      },
      "execution_count": null,
      "outputs": []
    },
    {
      "cell_type": "code",
      "source": [
        "path = r'/content/gdrive/MyDrive/[09] Master Thesis/data/'\n",
        "\n",
        "data = pd.read_csv(path + \"ATP3-UFS-Instrumentation.csv\")\n",
        "data['DateTime'] = pd.to_datetime(data['DateTime'])"
      ],
      "metadata": {
        "id": "Xx5gMgJXX4kk"
      },
      "execution_count": null,
      "outputs": []
    },
    {
      "cell_type": "code",
      "source": [
        "def show_experiment(instrumentation_data, experimentID, pondID, siteID):\n",
        "  exp_data = instrumentation_data.loc[instrumentation_data['ExperimentID'] == experimentID]\n",
        "  exp_data = exp_data.loc[exp_data['PondID'] == pondID]\n",
        "  exp_data = exp_data.loc[exp_data['SiteID'] == siteID]\n",
        "  exp_data = exp_data.sort_values(\"DateTime\")\n",
        "  time = np.asarray(exp_data['DateTime'])\n",
        "  start = time[0]\n",
        "  end = time[-1]\n",
        "  duration = end-start\n",
        "  duration_days = duration.astype(\"timedelta64[D]\") // np.timedelta64(1, 'D')\n",
        "  duration_hours = int(duration.astype(\"timedelta64[h]\") / np.timedelta64(1, 'h') % 24)\n",
        "\n",
        "  print(f\"START: {start}\\nEND: {end}\\nDURATION: {duration_days}d {duration_hours}h\")\n",
        "  for col in exp_data.columns:\n",
        "    if col in ['ExperimentID', 'SiteID', 'PondID', 'StrainID']:\n",
        "      print(f\"{col}: {exp_data[col].unique()}\")\n",
        "    elif col in ['DateTime', 'Date']:\n",
        "      pass\n",
        "    else:\n",
        "      print(f\"============{col}=============\")\n",
        "      print(f\"max {col}: {exp_data[col].max()}\")\n",
        "      print(f\"min {col}: {exp_data[col].min()}\")\n",
        "      print(f\"mean {col}: {exp_data[col].mean()}\")\n",
        "      # TODO: filter unrealistic values\n",
        "      # fig = px.histogram(exp_data, x=col)\n",
        "      # fig.show()\n",
        "      # fig = px.line(exp_data, x='DateTime', y=col)\n",
        "      # fig.show()"
      ],
      "metadata": {
        "id": "VjqzmqELhAph"
      },
      "execution_count": null,
      "outputs": []
    },
    {
      "cell_type": "code",
      "source": [
        "show_experiment(data, 'SEP102014', 'P3', 'FA')"
      ],
      "metadata": {
        "id": "DuE-YoQNZoyX"
      },
      "execution_count": null,
      "outputs": []
    },
    {
      "cell_type": "code",
      "source": [],
      "metadata": {
        "id": "O6fZCtQPg_Wj"
      },
      "execution_count": null,
      "outputs": []
    }
  ]
}